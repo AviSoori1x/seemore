{
 "cells": [
  {
   "cell_type": "markdown",
   "metadata": {
    "application/vnd.databricks.v1+cell": {
     "cellMetadata": {},
     "inputWidgets": {},
     "nuid": "380b9906-884b-4650-b3f3-03ac7460369f",
     "showTitle": false,
     "title": ""
    },
    "id": "12xieaXiYZBn"
   },
   "source": [
    "\n",
    "### SeeMoE: Mixture of Experts Vision Language Model from scratch in Pytorch\n",
    "\n",
    "TL;DR: In  this blog I implement a mixture of experts vision language model consisting of an image encoder, a multimodal projection module and a mixture of experts decoder language model in pure pytorch. Thus, the resulting implementation could be thought of as a scaled down version of Grok 1.5 Vision and GPT-4 Vision (both have vision encoders connected to a MoE Decoder model via a projection module). The name ‘seeMoE’ is my way of paying homage to Andrej Karpathy’s project ‘makemore’ because for the decoder used here I implement a character level autoregressive language model much like in his nanoGPT/ makemore implementation but with a twist. The twist being that it's a mixture of experts Decoder (much like DBRX, Mixtral and Grok). My goal is for you to have an intuitive understanding of how this seemingly state of the art implementation works so that you can improve upon it or use the key takeaways to build more useful systems.\n",
    "\n",
    "\n",
    "  <img src=\"https://github.com/AviSoori1x/seemore/blob/main/images/seeMoE.png?raw=true\" width=\"500\" height=\"500\" alt=\"seemore\">\n",
    "\n"
   ]
  },
  {
   "cell_type": "markdown",
   "metadata": {
    "application/vnd.databricks.v1+cell": {
     "cellMetadata": {},
     "inputWidgets": {},
     "nuid": "f2ef61cb-9075-40ab-a2e0-c93ff6c57890",
     "showTitle": false,
     "title": ""
    }
   },
   "source": [
    "If you've read my other blogs on implementing mixture of experts from scratch: https://huggingface.co/blog/AviSoori1x/makemoe-from-scratch and implementing a vision language model from scratch: https://huggingface.co/blog/AviSoori1x/seemore-vision-language-model, you'll realize that I'm combining the two to implement seeMoE. Essentially, all I'm doing here is replacing the feed-forward neural network in each transformer block of the decoder with a mixture of experts module with noisyTopKrouting. More information on how this is implemented, it's given here:  https://huggingface.co/blog/AviSoori1x/makemoe-from-scratch. I strongly encourage you to read these two blogs and carefully go through the repos linked to both the blogs before diving into this. "
   ]
  },
  {
   "cell_type": "markdown",
   "metadata": {
    "application/vnd.databricks.v1+cell": {
     "cellMetadata": {},
     "inputWidgets": {},
     "nuid": "389b4435-7bd3-4057-84ce-70c16f8fba46",
     "showTitle": false,
     "title": ""
    },
    "id": "mhbgAfWAZbqj"
   },
   "source": [
    "In ‘seeMoE’, my simple implementation of a Mixture of Experts vision language model (VLM), there are 3 main components.\n",
    "\n",
    "  <img src=\"https://github.com/AviSoori1x/seemore/blob/main/images/moevlm.png?raw=true\" width=\"500\" height=\"500\" alt=\"seemore\">\n",
    "\n",
    "* Image Encoder to extract visual features from images. In this case I use a from scratch implementation of the original vision transformer used in CLIP. This is actually a popular choice in many modern VLMs. The one notable exception is Fuyu series of models from Adept, that passes the patchified images directly to the projection layer.\n",
    "\n",
    "* Vision-Language Projector - Image embeddings are not of the same shape as text embeddings used by the decoder. So we need to ‘project’ i.e. change dimensionality of image features extracted by the image encoder to match what’s observed in the text embedding space. So image features become ‘visual tokens’ for the decoder. This could be a single layer or an MLP. I’ve used an MLP because it’s worth showing.\n",
    "\n",
    "* A decoder only language model with the mixture of experts architecture. This is the component that ultimately generates text. In my implementation I’ve deviated from what you see in LLaVA a bit by incorporating the projection module to my decoder. Typically this is not observed, and you leave the architecture of the decoder (which is usually an already pretrained model) untouched. The biggest change here is that, as mentioned before, the feed forward neural net / MLP in each transformer block is replaced by a mixture of experts block with a noisy top-k gating mechanism. Basically each token (text tokens + visual tokens that have been mapped to the same embedding space as text tokens) are only processed by top-k of the n experts in each transformer block. So if it's a MoE architecture with 8 experts and top 2 gating, only 2 of the experts will be activated. \n",
    "\n"
   ]
  },
  {
   "cell_type": "markdown",
   "metadata": {
    "application/vnd.databricks.v1+cell": {
     "cellMetadata": {},
     "inputWidgets": {},
     "nuid": "91245638-2bcf-4db7-bc07-0e38350a75b1",
     "showTitle": false,
     "title": ""
    },
    "id": "btPeznnpZQIl"
   },
   "source": [
    "Do the necessary imports. Note that this is just standard pytorch"
   ]
  },
  {
   "cell_type": "code",
   "execution_count": 0,
   "metadata": {
    "application/vnd.databricks.v1+cell": {
     "cellMetadata": {
      "byteLimit": 2048000,
      "rowLimit": 10000
     },
     "inputWidgets": {},
     "nuid": "7423d594-7c2c-4a5b-8089-3faf9e30b116",
     "showTitle": false,
     "title": ""
    },
    "id": "Ozzn44gSRw5F"
   },
   "outputs": [
    {
     "output_type": "stream",
     "name": "stderr",
     "output_type": "stream",
     "text": [
      "2024-05-04 19:47:41.972483: E external/local_xla/xla/stream_executor/cuda/cuda_dnn.cc:9261] Unable to register cuDNN factory: Attempting to register factory for plugin cuDNN when one has already been registered\n2024-05-04 19:47:41.972544: E external/local_xla/xla/stream_executor/cuda/cuda_fft.cc:607] Unable to register cuFFT factory: Attempting to register factory for plugin cuFFT when one has already been registered\n2024-05-04 19:47:41.973364: E external/local_xla/xla/stream_executor/cuda/cuda_blas.cc:1515] Unable to register cuBLAS factory: Attempting to register factory for plugin cuBLAS when one has already been registered\n2024-05-04 19:47:41.979380: I tensorflow/core/platform/cpu_feature_guard.cc:182] This TensorFlow binary is optimized to use available CPU instructions in performance-critical operations.\nTo enable the following instructions: AVX2 FMA, in other operations, rebuild TensorFlow with the appropriate compiler flags.\n"
     ]
    }
   ],
   "source": [
    "import base64\n",
    "import io\n",
    "import pandas as pd\n",
    "from PIL import Image\n",
    "import torchvision.transforms as transforms\n",
    "import torch\n",
    "import torch.nn as nn\n",
    "from torch.nn import functional as F\n",
    "from torch.nn import init\n",
    "import mlflow"
   ]
  },
  {
   "cell_type": "code",
   "execution_count": 0,
   "metadata": {
    "application/vnd.databricks.v1+cell": {
     "cellMetadata": {
      "byteLimit": 2048000,
      "rowLimit": 10000
     },
     "inputWidgets": {},
     "nuid": "71cb328e-20a2-42e7-95d2-ccdf9bcc238a",
     "showTitle": false,
     "title": ""
    },
    "id": "hcu64FfMRw5H"
   },
   "outputs": [],
   "source": [
    "# Ensure every computation happens on the GPU when available\n",
    "device = 'cuda' if torch.cuda.is_available() else 'cpu'"
   ]
  },
  {
   "cell_type": "code",
   "execution_count": 0,
   "metadata": {
    "application/vnd.databricks.v1+cell": {
     "cellMetadata": {
      "byteLimit": 2048000,
      "rowLimit": 10000
     },
     "inputWidgets": {},
     "nuid": "3e279fd6-d26a-481e-b428-8629635da103",
     "showTitle": false,
     "title": ""
    },
    "id": "d2LDm8CmRw5I"
   },
   "outputs": [],
   "source": [
    "#To build the encoding and decoding functions we use the tinyshakespear dataset. However for the sake of brevity we do not pretrain the decoder model on it\n",
    "#the training function should be able to do it without an issue as well as it could take both images and tex\n",
    "text_path = \"./input.txt\"\n",
    "with open(text_path, 'r', encoding='utf-8') as f:\n",
    "    text = f.read()\n",
    "\n",
    "# here are all the unique characters that occur in this text\n",
    "chars = sorted(list(set(text)))\n",
    "# create a mapping from characters to integers\n",
    "stoi = { ch:i for i,ch in enumerate(chars) }\n",
    "stoi['<pad>']= 65\n",
    "itos = { i:ch for i,ch in enumerate(chars) }\n",
    "itos[65] = '<pad>'\n",
    "encode = lambda s: [stoi[c] for c in s] # encoder: take a string, output a list of integers\n",
    "decode = lambda l: ''.join([itos[i] for i in l]) # decoder: take a list of integers, output a string\n",
    "vocab_size = len(stoi.keys())"
   ]
  },
  {
   "cell_type": "markdown",
   "metadata": {
    "application/vnd.databricks.v1+cell": {
     "cellMetadata": {},
     "inputWidgets": {},
     "nuid": "18931b35-8054-41c1-bf26-56cbc8916f03",
     "showTitle": false,
     "title": ""
    },
    "id": "OwKjyYG_k9n8"
   },
   "source": [
    "<img src=\"https://github.com/AviSoori1x/seemore/blob/main/images/clip.png?raw=true\" width=\"600\" height=\"400\" alt=\"seemore\">\n",
    "\n",
    "Usually a pretrained vision transformer from CLIP or SigLIP (an improved version of CLIP) is used.\n",
    "\n"
   ]
  },
  {
   "cell_type": "markdown",
   "metadata": {
    "application/vnd.databricks.v1+cell": {
     "cellMetadata": {},
     "inputWidgets": {},
     "nuid": "5a6bc121-fe05-4370-875f-1ffb38f4fad9",
     "showTitle": false,
     "title": ""
    },
    "id": "rQx-syMneYi8"
   },
   "source": [
    "<img src=\"https://github.com/AviSoori1x/seemore/blob/main/images/vit.png?raw=true\" width=\"600\" height=\"300\" alt=\"seemore\">\n",
    "\n",
    "To implement this vision transformer from scratch we have to create a PatchEmbeddings class that can take an image and create a sequence of patches. This process is crucial for enabling the transformer architecture to process visual data effectively, specifically using the attention blocks in the subsequent steps of the architecture.\n"
   ]
  },
  {
   "cell_type": "code",
   "execution_count": 0,
   "metadata": {
    "application/vnd.databricks.v1+cell": {
     "cellMetadata": {
      "byteLimit": 2048000,
      "rowLimit": 10000
     },
     "inputWidgets": {},
     "nuid": "08daa24b-a3e9-46f9-bc57-51d8d1673397",
     "showTitle": false,
     "title": ""
    },
    "id": "TH449G_WRw5I"
   },
   "outputs": [],
   "source": [
    "class PatchEmbeddings(nn.Module):\n",
    "    def __init__(self, img_size=96, patch_size=16, hidden_dim=512):\n",
    "        super().__init__()\n",
    "\n",
    "        # Store the input image size\n",
    "        self.img_size = img_size\n",
    "\n",
    "        # Store the size of each patch\n",
    "        self.patch_size = patch_size\n",
    "\n",
    "        # Calculate the total number of patches\n",
    "        self.num_patches = (img_size // patch_size) ** 2\n",
    "\n",
    "        # Create a convolutional layer to extract patch embeddings\n",
    "        # in_channels=3 assumes the input image has 3 color channels (RGB)\n",
    "        # out_channels=hidden_dim sets the number of output channels to match the hidden dimension\n",
    "        # kernel_size=patch_size and stride=patch_size ensure each patch is separately embedded\n",
    "        self.conv = nn.Conv2d(in_channels=3, out_channels=hidden_dim,\n",
    "                              kernel_size=patch_size, stride=patch_size)\n",
    "\n",
    "    def forward(self, X):\n",
    "        # Extract patch embeddings from the input image\n",
    "        X = self.conv(X)\n",
    "\n",
    "        # Flatten the spatial dimensions (height and width) of the patch embeddings\n",
    "        # This step flattens the patch dimensions into a single dimension\n",
    "        X = X.flatten(2)\n",
    "\n",
    "        # Transpose the dimensions to obtain the shape [batch_size, num_patches, hidden_dim]\n",
    "        # This step brings the num_patches dimension to the second position\n",
    "        X = X.transpose(1, 2)\n",
    "\n",
    "        return X\n"
   ]
  },
  {
   "cell_type": "code",
   "execution_count": 0,
   "metadata": {
    "application/vnd.databricks.v1+cell": {
     "cellMetadata": {
      "byteLimit": 2048000,
      "rowLimit": 10000
     },
     "inputWidgets": {},
     "nuid": "5b3934cf-5735-470c-aece-7babbd097a38",
     "showTitle": false,
     "title": ""
    },
    "colab": {
     "base_uri": "https://localhost:8080/"
    },
    "id": "mhTi7MpFRw5I",
    "outputId": "f9c27e9f-a38b-49ce-a5a7-b426fa999bab"
   },
   "outputs": [
    {
     "output_type": "execute_result",
     "data": {
      "text/plain": [
       "torch.Size([4, 36, 512])"
      ]
     },
     "execution_count": 6,
     "metadata": {},
     "output_type": "execute_result"
    }
   ],
   "source": [
    "#testing\n",
    "img_size, patch_size,  num_hiddens, batch_size = 96, 16, 512, 4\n",
    "patch_embeddings = PatchEmbeddings(img_size, patch_size, num_hiddens )\n",
    "X = torch.zeros(batch_size, 3, img_size, img_size)\n",
    "patch_embeddings(X).shape"
   ]
  },
  {
   "cell_type": "markdown",
   "metadata": {
    "application/vnd.databricks.v1+cell": {
     "cellMetadata": {},
     "inputWidgets": {},
     "nuid": "e0671090-14a9-469e-86d9-6f33b2da00c7",
     "showTitle": false,
     "title": ""
    },
    "id": "EtQiv8I7fQMW"
   },
   "source": [
    "Things get interesting when building the components seen in the transformer blocks. I.e. The attention head implementation, multi head attention, the multilayer perceptron seen in each attention head and the transformer block itself. These components are mostly identical across the vision transformer we are implementing for the ‘visual token’ generation and the decoder language model for the actual text output generation.\n",
    "\n",
    "The only key difference is the masking applied in each attention head in the decoder language model. This is done to ensure the integrity of the autoregressive language generation process, particularly in a decoder-only model, the code implements masking. This masking technique is crucial as it obscures any information following the current token's position, thereby directing the model's attention to only the preceding parts of the sequence. Such an attention mechanism is known as causal self-attention.\n"
   ]
  },
  {
   "cell_type": "markdown",
   "metadata": {
    "application/vnd.databricks.v1+cell": {
     "cellMetadata": {},
     "inputWidgets": {},
     "nuid": "d65db039-9e08-4080-bec0-4d4a8abe3664",
     "showTitle": false,
     "title": ""
    },
    "id": "mEN3qhAZfd6S"
   },
   "source": [
    "The multilayer perceptron that follows each multihead attention module is quite straightforward. Please note that I’ve noticed GELU used quite often in Vision Transformers and ReLU used in text transformers, so I have this conditional logic to switch between the two based on where this MLP will be inserted. However, it seems that GELU is being used for both due to its resultant model performance, regardless of the fact that it’s more computationally expensive that RELU. Please note that we aren't adding a sparse MoE module in the vision encoder. Generally this is seen in the language decoder.\n"
   ]
  },
  {
   "cell_type": "code",
   "execution_count": 0,
   "metadata": {
    "application/vnd.databricks.v1+cell": {
     "cellMetadata": {
      "byteLimit": 2048000,
      "rowLimit": 10000
     },
     "inputWidgets": {},
     "nuid": "acec0b6d-4b53-497a-b0a4-8e8aee8270ee",
     "showTitle": false,
     "title": ""
    },
    "id": "_xJdDCXgRw5I"
   },
   "outputs": [],
   "source": [
    "#swapping linear for lazy linear for simplicity. Lazylinear can accept any arbitrary input dimension without having it specified\n",
    "\n",
    "class MLP(nn.Module):\n",
    "    def __init__(self, n_embd, dropout=0.1, is_decoder=True):\n",
    "        super().__init__()\n",
    "\n",
    "        # Define the layers of the MLP\n",
    "        layers = [\n",
    "            # First linear layer that expands the input dimension from n_embd to 4 * n_embd\n",
    "            nn.Linear(n_embd, 4 * n_embd),\n",
    "\n",
    "            # Activation function: ReLU if is_decoder is True, else GELU\n",
    "            nn.ReLU() if is_decoder else nn.GELU(),\n",
    "\n",
    "            # Second linear layer that projects the intermediate dimension back to n_embd\n",
    "            nn.Linear(4 * n_embd, n_embd),\n",
    "\n",
    "            # Dropout layer for regularization\n",
    "            nn.Dropout(dropout)\n",
    "        ]\n",
    "\n",
    "        # Create a sequential container to hold the layers\n",
    "        self.net = nn.Sequential(*layers)\n",
    "\n",
    "    def forward(self, x):\n",
    "        # Pass the input through the MLP layers\n",
    "        return self.net(x)\n"
   ]
  },
  {
   "cell_type": "code",
   "execution_count": 0,
   "metadata": {
    "application/vnd.databricks.v1+cell": {
     "cellMetadata": {
      "byteLimit": 2048000,
      "rowLimit": 10000
     },
     "inputWidgets": {},
     "nuid": "e56112ea-2647-45c2-b9ca-12f78a6827c7",
     "showTitle": false,
     "title": ""
    },
    "colab": {
     "base_uri": "https://localhost:8080/"
    },
    "id": "ct1pFoFpRw5J",
    "outputId": "13c3618b-e471-4822-8350-9c767c7bf31a"
   },
   "outputs": [
    {
     "output_type": "execute_result",
     "data": {
      "text/plain": [
       "torch.Size([4, 3, 128])"
      ]
     },
     "execution_count": 8,
     "metadata": {},
     "output_type": "execute_result"
    }
   ],
   "source": [
    "#For the sake of this example consider embedding size to be 128\n",
    "n_embd = 128\n",
    "testmlp = MLP(n_embd)\n",
    "mlp_input = torch.zeros(batch_size, 3, n_embd)\n",
    "testmlp_out = testmlp(mlp_input)\n",
    "testmlp_out.shape"
   ]
  },
  {
   "cell_type": "markdown",
   "metadata": {
    "application/vnd.databricks.v1+cell": {
     "cellMetadata": {},
     "inputWidgets": {},
     "nuid": "01fa0515-22bc-4bf1-9e85-a71effdaa53e",
     "showTitle": false,
     "title": ""
    },
    "id": "AurTlZV7g3ov"
   },
   "source": [
    "When it comes to the self attention mechanism employed across both the vision encoder and the language decoder, the only key difference is the masking applied in each attention head in the decoder language model. This is done to ensure the integrity of the autoregressive language generation process, particularly in a decoder-only model, the code implements masking. This masking technique is crucial as it obscures any information following the current token's position, thereby directing the model's attention to only the preceding parts of the sequence. Such an attention mechanism is known as causal self-attention.\n",
    "\n",
    "<img src=\"https://github.com/AviSoori1x/seemore/blob/main/images/mhsa.png?raw=true\" width=\"800\" height=\"400\" alt=\"seemore\">\n",
    "\n",
    "In the above image, the lower triangular mask is only applied in the case of a decoder model. Consider the bright blue triangle in matrix W absent in the case of visualizing the process in each attention head in the vision encoder.\n"
   ]
  },
  {
   "cell_type": "code",
   "execution_count": 0,
   "metadata": {
    "application/vnd.databricks.v1+cell": {
     "cellMetadata": {
      "byteLimit": 2048000,
      "rowLimit": 10000
     },
     "inputWidgets": {},
     "nuid": "fff7d282-c2ab-4b90-ab4a-f99fa9cd14c8",
     "showTitle": false,
     "title": ""
    },
    "id": "uqj-YL7pRw5J"
   },
   "outputs": [],
   "source": [
    "class Head(nn.Module):\n",
    "    def __init__(self, n_embd, head_size, dropout=0.1, is_decoder=False):\n",
    "        super().__init__()\n",
    "\n",
    "        # Linear layer for key projection\n",
    "        self.key = nn.Linear(n_embd, head_size, bias=False)\n",
    "\n",
    "        # Linear layer for query projection\n",
    "        self.query = nn.Linear(n_embd, head_size, bias=False)\n",
    "\n",
    "        # Linear layer for value projection\n",
    "        self.value = nn.Linear(n_embd, head_size, bias=False)\n",
    "\n",
    "        # Dropout layer for regularization\n",
    "        self.dropout = nn.Dropout(dropout)\n",
    "\n",
    "        # Flag indicating whether this head is used in the decoder\n",
    "        self.is_decoder = is_decoder\n",
    "\n",
    "    def forward(self, x):\n",
    "        # Get the batch size (B), sequence length (T), and embedding dimension (C) from the input tensor\n",
    "        B, T, C = x.shape\n",
    "\n",
    "        # Compute key, query, and value projections\n",
    "        k = self.key(x)   # Shape: [B, T, head_size]\n",
    "        q = self.query(x) # Shape: [B, T, head_size]\n",
    "        v = self.value(x) # Shape: [B, T, head_size]\n",
    "\n",
    "        # Compute attention scores by taking the dot product of query and key\n",
    "        # and scaling by the square root of the embedding dimension\n",
    "        wei = q @ k.transpose(-2, -1) * (C ** -0.5) # Shape: [B, T, T]\n",
    "\n",
    "        if self.is_decoder:\n",
    "            # If this head is used in the decoder, apply a causal mask to the attention scores\n",
    "            # to prevent attending to future positions\n",
    "            tril = torch.tril(torch.ones(T, T, dtype=torch.bool, device=x.device))\n",
    "            wei = wei.masked_fill(tril == 0, float('-inf'))\n",
    "\n",
    "        # Apply softmax to the attention scores to obtain attention probabilities\n",
    "        wei = F.softmax(wei, dim=-1) # Shape: [B, T, T]\n",
    "\n",
    "        # Apply dropout to the attention probabilities for regularization\n",
    "        wei = self.dropout(wei)\n",
    "\n",
    "        # Perform weighted aggregation of values using the attention probabilities\n",
    "        out = wei @ v # Shape: [B, T, head_size]\n",
    "\n",
    "        return out\n"
   ]
  },
  {
   "cell_type": "code",
   "execution_count": 0,
   "metadata": {
    "application/vnd.databricks.v1+cell": {
     "cellMetadata": {
      "byteLimit": 2048000,
      "rowLimit": 10000
     },
     "inputWidgets": {},
     "nuid": "17f9b16f-0ebc-4b59-b285-78790613aa15",
     "showTitle": false,
     "title": ""
    },
    "colab": {
     "base_uri": "https://localhost:8080/"
    },
    "id": "FmD_ct_-Rw5J",
    "outputId": "9bf43428-b2c0-41b5-99c1-32955332f0ca"
   },
   "outputs": [
    {
     "output_type": "execute_result",
     "data": {
      "text/plain": [
       "torch.Size([4, 3, 16])"
      ]
     },
     "execution_count": 10,
     "metadata": {},
     "output_type": "execute_result"
    }
   ],
   "source": [
    "#Example values for testing\n",
    "n_embd, head_size, batch_size = 128, 16, 4\n",
    "\n",
    "testhead = Head(n_embd, head_size)\n",
    "head_input = torch.zeros(batch_size, 3, n_embd)\n",
    "testhead_out = testhead(head_input)\n",
    "testhead_out.shape # (B, T,H_size)"
   ]
  },
  {
   "cell_type": "code",
   "execution_count": 0,
   "metadata": {
    "application/vnd.databricks.v1+cell": {
     "cellMetadata": {
      "byteLimit": 2048000,
      "rowLimit": 10000
     },
     "inputWidgets": {},
     "nuid": "49de410a-f93b-4413-a06e-a7487379c5fc",
     "showTitle": false,
     "title": ""
    },
    "id": "-xHZhwnHRw5J"
   },
   "outputs": [],
   "source": [
    "class MultiHeadAttention(nn.Module):\n",
    "    def __init__(self, n_embd, num_heads, dropout=0.1, is_decoder=False):\n",
    "        super().__init__()\n",
    "\n",
    "        # Ensure that the embedding dimension is divisible by the number of heads\n",
    "        assert n_embd % num_heads == 0, \"n_embd must be divisible by num_heads\"\n",
    "\n",
    "        # Create a ModuleList of attention heads\n",
    "        self.heads = nn.ModuleList([\n",
    "            Head(n_embd, n_embd // num_heads, dropout, is_decoder)\n",
    "            for _ in range(num_heads)\n",
    "        ])\n",
    "\n",
    "        # Linear layer for projecting the concatenated head outputs\n",
    "        self.proj = nn.Linear(n_embd, n_embd)\n",
    "\n",
    "        # Dropout layer for regularization\n",
    "        self.dropout = nn.Dropout(dropout)\n",
    "\n",
    "    def forward(self, x):\n",
    "        # Apply each attention head to the input tensor\n",
    "        head_outputs = [h(x) for h in self.heads]\n",
    "\n",
    "        # Concatenate the outputs from all heads along the last dimension\n",
    "        out = torch.cat(head_outputs, dim=-1)\n",
    "\n",
    "        # Apply the projection layer to the concatenated outputs\n",
    "        out = self.proj(out)\n",
    "\n",
    "        # Apply dropout to the projected outputs for regularization\n",
    "        out = self.dropout(out)\n",
    "\n",
    "        return out\n"
   ]
  },
  {
   "cell_type": "code",
   "execution_count": 0,
   "metadata": {
    "application/vnd.databricks.v1+cell": {
     "cellMetadata": {
      "byteLimit": 2048000,
      "rowLimit": 10000
     },
     "inputWidgets": {},
     "nuid": "90c71fe2-3ef6-4eca-9805-130b12418646",
     "showTitle": false,
     "title": ""
    },
    "colab": {
     "base_uri": "https://localhost:8080/"
    },
    "id": "qudiJJl7Rw5J",
    "outputId": "0ace91c4-e682-4540-beec-ac18b742cf25"
   },
   "outputs": [
    {
     "output_type": "execute_result",
     "data": {
      "text/plain": [
       "torch.Size([4, 3, 128])"
      ]
     },
     "execution_count": 12,
     "metadata": {},
     "output_type": "execute_result"
    }
   ],
   "source": [
    "#Example values for testing\n",
    "n_embd, n_head = 128, 8\n",
    "testmha = MultiHeadAttention(n_embd, n_head)\n",
    "head_input = torch.zeros(batch_size, 3, n_embd)\n",
    "testmha_out = testmha(head_input)\n",
    "testmha_out.shape # (B, T,H_size*n_heads = n_embed)"
   ]
  },
  {
   "cell_type": "markdown",
   "metadata": {
    "application/vnd.databricks.v1+cell": {
     "cellMetadata": {},
     "inputWidgets": {},
     "nuid": "b6ec717a-14d9-4a90-9fd2-35f8aeeeaba0",
     "showTitle": false,
     "title": ""
    },
    "id": "GCesbi9PiFe_"
   },
   "source": [
    "Each encoder transformer block looks as follows"
   ]
  },
  {
   "cell_type": "code",
   "execution_count": 0,
   "metadata": {
    "application/vnd.databricks.v1+cell": {
     "cellMetadata": {
      "byteLimit": 2048000,
      "rowLimit": 10000
     },
     "inputWidgets": {},
     "nuid": "eb477c79-fd05-4e79-8149-27b62d2b1c7e",
     "showTitle": false,
     "title": ""
    },
    "id": "xmSrzvZYRw5K"
   },
   "outputs": [],
   "source": [
    "class Block(nn.Module):\n",
    "    def __init__(self, n_embd, num_heads, dropout=0.1, is_decoder=False):\n",
    "        super().__init__()\n",
    "\n",
    "        # Layer normalization for the input to the attention layer\n",
    "        self.ln1 = nn.LayerNorm(n_embd)\n",
    "\n",
    "        # Multi-head attention module\n",
    "        self.attn = MultiHeadAttention(n_embd, num_heads, dropout, is_decoder)\n",
    "\n",
    "        # Layer normalization for the input to the FFN\n",
    "        self.ln2 = nn.LayerNorm(n_embd)\n",
    "\n",
    "        # Feed-forward neural network (FFN)\n",
    "        self.ffn = MLP(n_embd)\n",
    "\n",
    "    def forward(self, x):\n",
    "        original_x = x  # Save the input for the residual connection\n",
    "\n",
    "        # Apply layer normalization to the input\n",
    "        x = self.ln1(x)\n",
    "\n",
    "        # Apply multi-head attention\n",
    "        attn_output = self.attn(x)\n",
    "\n",
    "        # Add the residual connection (original input) to the attention output\n",
    "        x = original_x + attn_output\n",
    "\n",
    "        # Apply layer normalization to the input to the FFN\n",
    "        x = self.ln2(x)\n",
    "\n",
    "        # Apply the FFN\n",
    "        ffn_output = self.ffn(x)\n",
    "\n",
    "        # Add the residual connection (input to FFN) to the FFN output\n",
    "        x = x + ffn_output\n",
    "\n",
    "        return x"
   ]
  },
  {
   "cell_type": "code",
   "execution_count": 0,
   "metadata": {
    "application/vnd.databricks.v1+cell": {
     "cellMetadata": {
      "byteLimit": 2048000,
      "rowLimit": 10000
     },
     "inputWidgets": {},
     "nuid": "ed52337a-c5ff-4164-bb5d-0e450c3a02fd",
     "showTitle": false,
     "title": ""
    },
    "colab": {
     "base_uri": "https://localhost:8080/"
    },
    "id": "NBxryt6vRw5K",
    "outputId": "f8954d5c-ce75-4e99-95c2-034ef3c0f1d3"
   },
   "outputs": [
    {
     "output_type": "execute_result",
     "data": {
      "text/plain": [
       "torch.Size([4, 3, 128])"
      ]
     },
     "execution_count": 14,
     "metadata": {},
     "output_type": "execute_result"
    }
   ],
   "source": [
    "#Example values for testing\n",
    "n_embd, head_size, batch_size = 128, 16, 4\n",
    "\n",
    "testblock = Block(n_embd, n_head)\n",
    "block_input = torch.zeros(batch_size, 3, n_embd)\n",
    "testblock_out = testblock(block_input)\n",
    "testblock_out.shape"
   ]
  },
  {
   "cell_type": "markdown",
   "metadata": {
    "application/vnd.databricks.v1+cell": {
     "cellMetadata": {},
     "inputWidgets": {},
     "nuid": "a1791a86-6103-4658-9609-e560fb9ccd16",
     "showTitle": false,
     "title": ""
    },
    "id": "fRs4ppwaia9z"
   },
   "source": [
    "Now all this can be be put together to implement a Vision Transformer"
   ]
  },
  {
   "cell_type": "code",
   "execution_count": 0,
   "metadata": {
    "application/vnd.databricks.v1+cell": {
     "cellMetadata": {
      "byteLimit": 2048000,
      "rowLimit": 10000
     },
     "inputWidgets": {},
     "nuid": "fd6bdd3c-3c0c-413b-8800-a036a7848492",
     "showTitle": false,
     "title": ""
    },
    "id": "bSBuAN1GRw5K"
   },
   "outputs": [],
   "source": [
    "class ViT(nn.Module):\n",
    "    def __init__(self, img_size, patch_size, num_hiddens, num_heads, num_blks, emb_dropout, blk_dropout):\n",
    "        super().__init__()\n",
    "\n",
    "        # Patch embedding layer to convert the input image into patches\n",
    "        self.patch_embedding = PatchEmbeddings(img_size, patch_size, num_hiddens)\n",
    "\n",
    "        # Learnable classification token\n",
    "        self.cls_token = nn.Parameter(torch.zeros(1, 1, num_hiddens))\n",
    "\n",
    "        # Calculate the number of patches\n",
    "        num_patches = (img_size // patch_size) ** 2\n",
    "\n",
    "        # Learnable position embedding\n",
    "        self.pos_embedding = nn.Parameter(torch.randn(1, num_patches + 1, num_hiddens))\n",
    "\n",
    "        # Dropout layer for the embeddings\n",
    "        self.dropout = nn.Dropout(emb_dropout)\n",
    "\n",
    "        # Stack of transformer blocks\n",
    "        self.blocks = nn.ModuleList([Block(num_hiddens, num_heads, blk_dropout, is_decoder=False) for _ in range(num_blks)])\n",
    "\n",
    "        # Layer normalization for the final representation\n",
    "        self.layer_norm = nn.LayerNorm(num_hiddens)\n",
    "\n",
    "    def forward(self, X):\n",
    "        # Convert the input image into patch embeddings\n",
    "        x = self.patch_embedding(X)\n",
    "\n",
    "        # Expand the classification token to match the batch size\n",
    "        cls_tokens = self.cls_token.expand(x.shape[0], -1, -1)\n",
    "\n",
    "        # Concatenate the classification token with the patch embeddings\n",
    "        x = torch.cat((cls_tokens, x), dim=1)\n",
    "\n",
    "        # Add the position embedding to the patch embeddings\n",
    "        x += self.pos_embedding\n",
    "\n",
    "        # Apply dropout to the embeddings\n",
    "        x = self.dropout(x)\n",
    "\n",
    "        # Pass the embeddings through the transformer blocks\n",
    "        for block in self.blocks:\n",
    "            x = block(x)\n",
    "\n",
    "        # Apply layer normalization to the final representation\n",
    "        x = self.layer_norm(x[:, 0])\n",
    "\n",
    "        return x\n"
   ]
  },
  {
   "cell_type": "code",
   "execution_count": 0,
   "metadata": {
    "application/vnd.databricks.v1+cell": {
     "cellMetadata": {
      "byteLimit": 2048000,
      "rowLimit": 10000
     },
     "inputWidgets": {},
     "nuid": "c4c3dfa0-6e1a-42db-94b4-ea19fcdfe7a1",
     "showTitle": false,
     "title": ""
    },
    "colab": {
     "base_uri": "https://localhost:8080/"
    },
    "id": "OmTp3JN7Rw5K",
    "outputId": "4aae9670-7f98-4826-dc73-3788830b85ea"
   },
   "outputs": [
    {
     "output_type": "execute_result",
     "data": {
      "text/plain": [
       "torch.Size([4, 512])"
      ]
     },
     "execution_count": 16,
     "metadata": {},
     "output_type": "execute_result"
    }
   ],
   "source": [
    "#For purposes of testing\n",
    "img_size, patch_size, num_hiddens, n_head, num_blks, dropout = 96, 16, 512, 8, 3, 0.1\n",
    "\n",
    "testvit = ViT(img_size, patch_size, num_hiddens, n_head, num_blks, dropout, dropout)\n",
    "vit_input = torch.zeros(batch_size, 3, img_size, img_size)\n",
    "testvit_out = testvit(vit_input)\n",
    "testvit_out.shape"
   ]
  },
  {
   "cell_type": "markdown",
   "metadata": {
    "application/vnd.databricks.v1+cell": {
     "cellMetadata": {},
     "inputWidgets": {},
     "nuid": "a809efba-f365-4201-b824-85d85b94311b",
     "showTitle": false,
     "title": ""
    },
    "id": "qKq_UHuaioOC"
   },
   "source": [
    "However, we can’t directly concatenate this to the text embeddings. We need to project this from the dimensionality of image embeddings from the vision transformer to the dimensionality of text embeddings. This is done by the vision-language projector. As mentioned before, this can be a single learnable layer followed by a non-linearity or an MLP. Here I implement an MLP for a couple of reasons.\n",
    "\n",
    "1. This is an implementation to understand how things work in a VLM. So this is more interesting than a single projection layer.\n",
    "\n",
    "2. There is an interesting current trend of keeping both the pretrained vision encoder and language decoder frozen during the VLM training phase. So giving more parameters to learn via this connection module could improve the ability of the overall VLM to generalize and help in the downstream instruction tuning process.\n",
    "\n",
    "Here’s the implementation of this projection module. It’s not too different from the MLP used in the transformer blocks.\n"
   ]
  },
  {
   "cell_type": "code",
   "execution_count": 0,
   "metadata": {
    "application/vnd.databricks.v1+cell": {
     "cellMetadata": {
      "byteLimit": 2048000,
      "rowLimit": 10000
     },
     "inputWidgets": {},
     "nuid": "c0733d1d-fb0f-4ab2-879c-9a2fd05a4dc2",
     "showTitle": false,
     "title": ""
    },
    "id": "R3z7SAf-Rw5K"
   },
   "outputs": [],
   "source": [
    "class MultiModalProjector(nn.Module):\n",
    "    def __init__(self, n_embd, image_embed_dim, dropout=0.1):\n",
    "        super().__init__()\n",
    "\n",
    "        # Define the projection network\n",
    "        self.net = nn.Sequential(\n",
    "            # Linear layer to expand the image embedding dimension\n",
    "            nn.Linear(image_embed_dim, 4 * image_embed_dim),\n",
    "\n",
    "            # GELU activation function\n",
    "            nn.GELU(),\n",
    "\n",
    "            # Linear layer to project the expanded image embeddings to the text embedding dimension\n",
    "            nn.Linear(4 * image_embed_dim, n_embd),\n",
    "\n",
    "            # Dropout layer for regularization\n",
    "            nn.Dropout(dropout)\n",
    "        )\n",
    "\n",
    "    def forward(self, x):\n",
    "        # Pass the input through the projection network\n",
    "        x = self.net(x)\n",
    "        return x\n"
   ]
  },
  {
   "cell_type": "code",
   "execution_count": 0,
   "metadata": {
    "application/vnd.databricks.v1+cell": {
     "cellMetadata": {
      "byteLimit": 2048000,
      "rowLimit": 10000
     },
     "inputWidgets": {},
     "nuid": "23de9c94-8ca3-4367-b91e-6179bd05b00d",
     "showTitle": false,
     "title": ""
    },
    "colab": {
     "base_uri": "https://localhost:8080/"
    },
    "id": "vCULLV9pRw5K",
    "outputId": "67ebf41b-fa9c-40c7-c9d6-8304bd3827c2"
   },
   "outputs": [
    {
     "output_type": "execute_result",
     "data": {
      "text/plain": [
       "torch.Size([4, 128])"
      ]
     },
     "execution_count": 18,
     "metadata": {},
     "output_type": "execute_result"
    }
   ],
   "source": [
    "#Example values for testing\n",
    "n_embd,num_hiddens = 128, 512\n",
    "\n",
    "testmmp = MultiModalProjector(n_embd,num_hiddens)\n",
    "mmp_input = testvit_out\n",
    "testmmp_out = testmmp(mmp_input)\n",
    "testmmp_out.shape"
   ]
  },
  {
   "cell_type": "markdown",
   "metadata": {
    "application/vnd.databricks.v1+cell": {
     "cellMetadata": {},
     "inputWidgets": {},
     "nuid": "4bcb8c73-b6a2-422b-b75a-47ea39917853",
     "showTitle": false,
     "title": ""
    },
    "id": "vTPJqLpojC_4"
   },
   "source": [
    "The final component we need to look at is the decoder language model. Here I’ve remained within the confines of the modern VLM architecture but deviated a bit in the implementation. I have integrated the projection module into the decoder model class implementation. This is because I built everything from scratch and wanted to retain the makemore causal language model architecture from Andrej Karpathy’s makemore. There’s no easy way to directly feed in reshaped embeddings in this implementation, so I’ve had to improvise a little. However in using pretrained models with the Hugging Face API or any other modern library that allows you to use pretrained large language models, you can directly feed embeddings as input to the model.\n",
    "\n",
    "That being said, what I’ve done here is an interesting exercise in that it allows you to see in pretty simple code:\n",
    "\n",
    " - How the image embeddings are reshaped using the vision language projector to match that of text embeddings.\n",
    "\n",
    " - Then concatenated with token embedding.\n",
    "\n",
    " - Subsequently combined with position embeddings and used to calculate a loss function (and eventually generate text).\n",
    "\n",
    "Essentially the text generation is conditioned on the initial image input. This can be modified in a number of ways to work with interleaved text and images, which will be useful for multi-turn conversation i.e. chat scenarios using the finetuned VLM.\n",
    "\n",
    "\n",
    "The crucial parts of this decoder implementation is given below. Note how the is_decoder flag is passed as ‘True’ to use the masked version of the self attention blocks, resulting in causal scaled dot product self attention in the language decoder. Please refer to the GitHub repo linked above for the full implementation.\n"
   ]
  },
  {
   "cell_type": "markdown",
   "metadata": {
    "application/vnd.databricks.v1+cell": {
     "cellMetadata": {},
     "inputWidgets": {},
     "nuid": "b2538045-4720-4b15-87f2-7570a238a38a",
     "showTitle": false,
     "title": ""
    }
   },
   "source": [
    "The main variation I've done here from my previous blog 'seemore' , is to convert the decoder language model into a mixture of experts by swapping the MLP in the transformer block with a sparse Mixture of experts module. It has several component's I've explained in depth here: https://huggingface.co/blog/AviSoori1x/makemoe-from-scratch\n",
    "\n",
    "The SparseMoE module consists of 3 parts shown below. \n",
    "\n",
    "1. Experts - just n vanilla MLPs\n",
    "2. A gating/ routing mechanism\n",
    "3. weighted summation of activated experts based on the routing mechanism\n",
    "\n",
    "  <img src=\"https://raw.githubusercontent.com/AviSoori1x/makeMoE/main/images/experts.png\" width=\"700\" height=\"700\" alt=\"seemore\">\n",
    "\n",
    "\n",
    "First, the 'Expert' which is just an MLP like we saw earlier when implementing the Encoder. "
   ]
  },
  {
   "cell_type": "code",
   "execution_count": 0,
   "metadata": {
    "application/vnd.databricks.v1+cell": {
     "cellMetadata": {
      "byteLimit": 2048000,
      "rowLimit": 10000
     },
     "inputWidgets": {},
     "nuid": "a79587c4-20b2-4418-bc4d-71b5234432ee",
     "showTitle": false,
     "title": ""
    }
   },
   "outputs": [],
   "source": [
    "#Expert module\n",
    "class Expert(nn.Module):\n",
    "    \"\"\" An MLP is a simple linear layer followed by a non-linearity i.e. each Expert \"\"\"\n",
    "\n",
    "    def __init__(self, n_embed):\n",
    "        super().__init__()\n",
    "        self.net = nn.Sequential(\n",
    "            nn.Linear(n_embed, 4 * n_embed),\n",
    "            nn.ReLU(),\n",
    "            nn.Linear(4 * n_embed, n_embed),\n",
    "            nn.Dropout(dropout),\n",
    "        )\n",
    "\n",
    "    def forward(self, x):\n",
    "        return self.net(x)"
   ]
  },
  {
   "cell_type": "markdown",
   "metadata": {
    "application/vnd.databricks.v1+cell": {
     "cellMetadata": {},
     "inputWidgets": {},
     "nuid": "9eca031a-8763-4ec1-8956-c6f41d6d1d60",
     "showTitle": false,
     "title": ""
    }
   },
   "source": [
    "The routing module decides which experts will be activated. Noisy top k gating/ routing adds a bit of gaussian noise to ensure that there's a fine balance between exploration and exploitation in picking the top-k experts for each token. This reduces the odds of the same n experts getting picked everytime, which defeats the purpose of having a larger parameter count with sparse activation for better generalizability.\n",
    "\n",
    "  <img src=\"https://raw.githubusercontent.com/AviSoori1x/makeMoE/main/images/noisytopkgating.png\" width=\"700\" height=\"700\" alt=\"seemore\">"
   ]
  },
  {
   "cell_type": "code",
   "execution_count": 0,
   "metadata": {
    "application/vnd.databricks.v1+cell": {
     "cellMetadata": {
      "byteLimit": 2048000,
      "rowLimit": 10000
     },
     "inputWidgets": {},
     "nuid": "d79faa17-f58b-4ca7-90e0-f3f2b9e718dc",
     "showTitle": false,
     "title": ""
    }
   },
   "outputs": [],
   "source": [
    "\n",
    "#noisy top-k gating\n",
    "class NoisyTopkRouter(nn.Module):\n",
    "    def __init__(self, n_embed, num_experts, top_k):\n",
    "        super(NoisyTopkRouter, self).__init__()\n",
    "        self.top_k = top_k\n",
    "        #layer for router logits\n",
    "        self.topkroute_linear = nn.Linear(n_embed, num_experts)\n",
    "        self.noise_linear =nn.Linear(n_embed, num_experts)\n",
    "\n",
    "    \n",
    "    def forward(self, mh_output):\n",
    "        # mh_ouput is the output tensor from multihead self attention block\n",
    "        logits = self.topkroute_linear(mh_output)\n",
    "\n",
    "        #Noise logits\n",
    "        noise_logits = self.noise_linear(mh_output)\n",
    "\n",
    "        #Adding scaled unit gaussian noise to the logits\n",
    "        noise = torch.randn_like(logits)*F.softplus(noise_logits)\n",
    "        noisy_logits = logits + noise\n",
    "\n",
    "        top_k_logits, indices = noisy_logits.topk(self.top_k, dim=-1)\n",
    "        zeros = torch.full_like(noisy_logits, float('-inf'))\n",
    "        sparse_logits = zeros.scatter(-1, indices, top_k_logits)\n",
    "        router_output = F.softmax(sparse_logits, dim=-1)\n",
    "        return router_output, indices"
   ]
  },
  {
   "cell_type": "markdown",
   "metadata": {
    "application/vnd.databricks.v1+cell": {
     "cellMetadata": {},
     "inputWidgets": {},
     "nuid": "3a55b82f-e9d1-40c5-8d92-a466c44eb922",
     "showTitle": false,
     "title": ""
    }
   },
   "source": [
    "Now both noisy-top-k gating and experts can be combined to create a sparse Mixture of Experts module. Note that weighted summation calculation has been incorporated to yield the output for each token in the forward pass."
   ]
  },
  {
   "cell_type": "code",
   "execution_count": 0,
   "metadata": {
    "application/vnd.databricks.v1+cell": {
     "cellMetadata": {
      "byteLimit": 2048000,
      "rowLimit": 10000
     },
     "inputWidgets": {},
     "nuid": "0bf702f0-63b5-4f31-a65a-d55e286eaeab",
     "showTitle": false,
     "title": ""
    }
   },
   "outputs": [],
   "source": [
    "#Now create the sparse mixture of experts module\n",
    "class SparseMoE(nn.Module):\n",
    "    def __init__(self, n_embed, num_experts, top_k):\n",
    "        super(SparseMoE, self).__init__()\n",
    "        self.router = NoisyTopkRouter(n_embed, num_experts, top_k)\n",
    "        self.experts = nn.ModuleList([Expert(n_embed) for _ in range(num_experts)])\n",
    "        self.top_k = top_k\n",
    "\n",
    "    def forward(self, x):\n",
    "        gating_output, indices = self.router(x)\n",
    "        final_output = torch.zeros_like(x)\n",
    "\n",
    "        # Reshape inputs for batch processing\n",
    "        flat_x = x.view(-1, x.size(-1))\n",
    "        flat_gating_output = gating_output.view(-1, gating_output.size(-1))\n",
    "\n",
    "        # Process each expert in parallel\n",
    "        for i, expert in enumerate(self.experts):\n",
    "            # Create a mask for the inputs where the current expert is in top-k\n",
    "            expert_mask = (indices == i).any(dim=-1)\n",
    "            flat_mask = expert_mask.view(-1)\n",
    "\n",
    "            if flat_mask.any():\n",
    "                expert_input = flat_x[flat_mask]\n",
    "                expert_output = expert(expert_input)\n",
    "\n",
    "                # Extract and apply gating scores\n",
    "                gating_scores = flat_gating_output[flat_mask, i].unsqueeze(1)\n",
    "                weighted_output = expert_output * gating_scores\n",
    "\n",
    "                # Update final output additively by indexing and adding\n",
    "                final_output[expert_mask] += weighted_output.squeeze(1)\n",
    "\n",
    "        return final_output"
   ]
  },
  {
   "cell_type": "markdown",
   "metadata": {
    "application/vnd.databricks.v1+cell": {
     "cellMetadata": {},
     "inputWidgets": {},
     "nuid": "79e7e156-d635-4b3f-be73-41b19c73887d",
     "showTitle": false,
     "title": ""
    }
   },
   "source": [
    "This can now be combined with multihead self attention to create a sparse MoE transformer block."
   ]
  },
  {
   "cell_type": "code",
   "execution_count": 0,
   "metadata": {
    "application/vnd.databricks.v1+cell": {
     "cellMetadata": {
      "byteLimit": 2048000,
      "rowLimit": 10000
     },
     "inputWidgets": {},
     "nuid": "bd4f734f-06ce-41d6-93a4-c01c0ebbe58b",
     "showTitle": false,
     "title": ""
    }
   },
   "outputs": [],
   "source": [
    "class SparseMoEBlock(nn.Module):\n",
    "    def __init__(self, n_embd, num_heads, num_experts, top_k, dropout=0.1, is_decoder=False):\n",
    "        super().__init__()\n",
    "\n",
    "        # Layer normalization for the input to the attention layer\n",
    "        self.ln1 = nn.LayerNorm(n_embd)\n",
    "\n",
    "        # Multi-head attention module\n",
    "        self.attn = MultiHeadAttention(n_embd, num_heads, dropout, is_decoder)\n",
    "\n",
    "        # Layer normalization for the input to the FFN\n",
    "        self.ln2 = nn.LayerNorm(n_embd)\n",
    "\n",
    "        # Feed-forward neural network (FFN)\n",
    "        self.sparseMoE = SparseMoE(n_embd, num_experts, top_k)\n",
    "\n",
    "    def forward(self, x):\n",
    "        original_x = x  # Save the input for the residual connection\n",
    "\n",
    "        # Apply layer normalization to the input\n",
    "        x = self.ln1(x)\n",
    "\n",
    "        # Apply multi-head attention\n",
    "        attn_output = self.attn(x)\n",
    "\n",
    "        # Add the residual connection (original input) to the attention output\n",
    "        x = original_x + attn_output\n",
    "\n",
    "        # Apply layer normalization to the input to the FFN\n",
    "        x = self.ln2(x)\n",
    "\n",
    "        # Apply the FFN\n",
    "        sparseMoE_output = self.sparseMoE(x)\n",
    "\n",
    "        # Add the residual connection (input to FFN) to the FFN output\n",
    "        x = x + sparseMoE_output\n",
    "\n",
    "        return x"
   ]
  },
  {
   "cell_type": "markdown",
   "metadata": {
    "application/vnd.databricks.v1+cell": {
     "cellMetadata": {},
     "inputWidgets": {},
     "nuid": "147335a4-6bf0-4d3a-a593-a79e0b3f3903",
     "showTitle": false,
     "title": ""
    }
   },
   "source": [
    "Now we combine the sparse MoE transformer architecture language decoder model that has been modified to accomodate 'vision tokens' created by the vision-language projector module. Typically, the decoder language model (sparse MoE or dense) will be kept unmodified and will receive embeddings, I've incorportated the vision-langauge projector to the model architecture to keep things simple. A detailed write-up is found in this blog: https://huggingface.co/blog/AviSoori1x/seemore-vision-language-model"
   ]
  },
  {
   "cell_type": "code",
   "execution_count": 0,
   "metadata": {
    "application/vnd.databricks.v1+cell": {
     "cellMetadata": {
      "byteLimit": 2048000,
      "rowLimit": 10000
     },
     "inputWidgets": {},
     "nuid": "db59fdc2-a922-4530-92f2-f51d801b3f39",
     "showTitle": false,
     "title": ""
    },
    "id": "aL9FkWjxRw5K"
   },
   "outputs": [],
   "source": [
    "class MoEDecoderLanguageModel(nn.Module):\n",
    "    def __init__(self, n_embd, image_embed_dim, vocab_size, num_heads, n_layer, num_experts, top_k, use_images=False):\n",
    "        super().__init__()\n",
    "\n",
    "        self.use_images = use_images\n",
    "\n",
    "        # Token embedding table\n",
    "        self.token_embedding_table = nn.Embedding(vocab_size, n_embd)\n",
    "\n",
    "        # Position embedding table\n",
    "        self.position_embedding_table = nn.Embedding(1000, n_embd)\n",
    "\n",
    "        if use_images:\n",
    "            # Image projection layer to align image embeddings with text embeddings\n",
    "            self.image_projection = MultiModalProjector(n_embd, image_embed_dim)\n",
    "\n",
    "        # Stack of transformer decoder blocks\n",
    "        self.sparseMoEBlocks = nn.Sequential(*[SparseMoEBlock(n_embd, num_heads, num_experts, top_k, is_decoder=True) for _ in range(n_layer)])\n",
    "\n",
    "        # Final layer normalization\n",
    "        self.ln_f = nn.LayerNorm(n_embd)\n",
    "\n",
    "        # Language modeling head\n",
    "        self.lm_head = nn.Linear(n_embd, vocab_size)\n",
    "\n",
    "    def forward(self, idx, image_embeds=None, targets=None):\n",
    "        # Get token embeddings from the input indices\n",
    "        tok_emb = self.token_embedding_table(idx)\n",
    "\n",
    "        if self.use_images and image_embeds is not None:\n",
    "            # Project and concatenate image embeddings with token embeddings\n",
    "            img_emb = self.image_projection(image_embeds).unsqueeze(1)\n",
    "            tok_emb = torch.cat([img_emb, tok_emb], dim=1)\n",
    "\n",
    "        # Get position embeddings\n",
    "        pos_emb = self.position_embedding_table(torch.arange(tok_emb.size(1), device=device)).unsqueeze(0)\n",
    "\n",
    "        # Add position embeddings to token embeddings\n",
    "        x = tok_emb + pos_emb\n",
    "\n",
    "        # Pass through the transformer decoder blocks\n",
    "        x = self.sparseMoEBlocks(x)\n",
    "\n",
    "        # Apply final layer normalization\n",
    "        x = self.ln_f(x)\n",
    "\n",
    "        # Get the logits from the language modeling head\n",
    "        logits = self.lm_head(x)\n",
    "\n",
    "        if targets is not None:\n",
    "            if self.use_images and image_embeds is not None:\n",
    "                # Prepare targets by concatenating a dummy target for the image embedding\n",
    "                batch_size = idx.size(0)\n",
    "                targets = torch.cat([torch.full((batch_size, 1), -100, dtype=torch.long, device=device), targets], dim=1)\n",
    "\n",
    "            # Compute the cross-entropy loss\n",
    "            loss = F.cross_entropy(logits.view(-1, logits.size(-1)), targets.view(-1), ignore_index=-100)\n",
    "            return logits, loss\n",
    "\n",
    "        return logits\n",
    "\n",
    "    def generate(self, idx, image_embeds, max_new_tokens):\n",
    "        # Get the batch size and sequence length\n",
    "        B, T = idx.shape\n",
    "\n",
    "        # Initialize the generated sequence with the input indices\n",
    "        generated = idx\n",
    "\n",
    "        if self.use_images and image_embeds is not None:\n",
    "            # Project and concatenate image embeddings with token embeddings\n",
    "            img_emb = self.image_projection(image_embeds).unsqueeze(1)\n",
    "            current_output = torch.cat([img_emb, self.token_embedding_table(idx)], dim=1)\n",
    "        else:\n",
    "            current_output = self.token_embedding_table(idx)\n",
    "\n",
    "        # Generate new tokens iteratively\n",
    "        for i in range(max_new_tokens):\n",
    "            # Get the current sequence length\n",
    "            T_current = current_output.size(1)\n",
    "\n",
    "            # Get position embeddings for the current sequence length\n",
    "            current_pos_emb = self.position_embedding_table(torch.arange(T_current, device=device)).unsqueeze(0)\n",
    "\n",
    "            # Add position embeddings to the current output\n",
    "            current_output += current_pos_emb\n",
    "\n",
    "            # Pass through the transformer decoder blocks\n",
    "            for block in self.sparseMoEBlocks:\n",
    "                current_output = block(current_output)\n",
    "\n",
    "            # Get the logits for the last token\n",
    "            logits = self.lm_head(current_output[:, -1, :])\n",
    "\n",
    "            # Apply softmax to get probabilities\n",
    "            probs = F.softmax(logits, dim=-1)\n",
    "\n",
    "            # Sample the next token based on the probabilities\n",
    "            idx_next = torch.multinomial(probs, num_samples=1)\n",
    "\n",
    "            # Concatenate the generated token to the generated sequence\n",
    "            generated = torch.cat((generated, idx_next), dim=1)\n",
    "\n",
    "            # Get the embeddings for the generated token\n",
    "            idx_next_emb = self.token_embedding_table(idx_next)\n",
    "\n",
    "            # Concatenate the generated token embeddings to the current output\n",
    "            current_output = torch.cat((current_output, idx_next_emb), dim=1)\n",
    "\n",
    "        return generated"
   ]
  },
  {
   "cell_type": "code",
   "execution_count": 0,
   "metadata": {
    "application/vnd.databricks.v1+cell": {
     "cellMetadata": {
      "byteLimit": 2048000,
      "rowLimit": 10000
     },
     "inputWidgets": {},
     "nuid": "b58b7a9f-34fc-45c6-8bb0-31e89a989b07",
     "showTitle": false,
     "title": ""
    },
    "colab": {
     "base_uri": "https://localhost:8080/"
    },
    "id": "dDQO0JAvRw5K",
    "outputId": "c5a0a13f-f2cd-4532-e94a-df97279566b0"
   },
   "outputs": [
    {
     "output_type": "stream",
     "name": "stdout",
     "output_type": "stream",
     "text": [
      "Logits shape: torch.Size([10, 51, 1000]), Loss: 7.006809234619141\nGenerated sequence shape: torch.Size([10, 70])\n"
     ]
    }
   ],
   "source": [
    "# I use n_layer to represent number of decoder transformer blocks and n_blks for the vision encoder to avoid confusion\n",
    "model = MoEDecoderLanguageModel(n_embd=128, image_embed_dim=256, vocab_size=1000, num_heads=8, n_layer=6,num_experts=8, top_k=2, use_images=True)\n",
    "model.to(device)\n",
    "# Dummy input\n",
    "B, T = 10, 50\n",
    "idx = torch.randint(0, 1000, (B, T)).to(device)\n",
    "image_embeds = torch.randn(B, 256).to(device)  # Assume image_embed_dim is 256\n",
    "\n",
    "targets = torch.randint(0, vocab_size, (B, T)).to(device)  # Only if you want to compute loss\n",
    "\n",
    "# Test forward pass\n",
    "# Check if you need to calculate loss by providing targets\n",
    "if targets is not None:\n",
    "    logits, loss = model(idx, image_embeds, targets)\n",
    "    print(f\"Logits shape: {logits.shape}, Loss: {loss}\")\n",
    "else:\n",
    "    logits = model(idx, image_embeds)  # Call without targets\n",
    "    print(f\"Logits shape: {logits.shape}\")\n",
    "\n",
    "# Test generation\n",
    "generated = model.generate(idx, image_embeds, max_new_tokens=20)\n",
    "print(f\"Generated sequence shape: {generated.shape}\")\n",
    "\n"
   ]
  },
  {
   "cell_type": "markdown",
   "metadata": {
    "application/vnd.databricks.v1+cell": {
     "cellMetadata": {},
     "inputWidgets": {},
     "nuid": "985811fa-766c-428d-b846-ba031ceafcb8",
     "showTitle": false,
     "title": ""
    },
    "id": "yvRS8VLOj8fo"
   },
   "source": [
    "Now that we have our three key components, we can put it all together into a sparse Mixture of Experts Vision Language Model. The full implementation is given below. If you were to remove the assert statements for error handling, this is very simple. Coming back full circle to the outline I’ve given at the beginning of the blog, all that’s happening here is:\n",
    "\n",
    "1. Get image features from the vision encoder (Here it’s a vision transformer, but it could be any model that could generate features from an image input such as a ResNet or a traditional convolutional neural network (needless to say performance may suffer))\n",
    "\n",
    "2. A projection module for projecting image tokens to the same embedding space as text embeddings for the decoder (this projector is integrated with the decoder in this implementation)\n",
    "\n",
    "3. A decoder language model with a sparseMoE architecture for generating text conditioned on a preceding image.\n"
   ]
  },
  {
   "cell_type": "code",
   "execution_count": 0,
   "metadata": {
    "application/vnd.databricks.v1+cell": {
     "cellMetadata": {
      "byteLimit": 2048000,
      "rowLimit": 10000
     },
     "inputWidgets": {},
     "nuid": "6702a660-0512-4152-8d56-97f0ebd562e8",
     "showTitle": false,
     "title": ""
    },
    "id": "FjklXZrPRw5K"
   },
   "outputs": [],
   "source": [
    "class VisionMoELanguageModel(nn.Module):\n",
    "    def __init__(self, n_embd, image_embed_dim, vocab_size, n_layer, img_size, patch_size, num_heads, num_blks, emb_dropout, blk_dropout, num_experts, top_k):\n",
    "        super().__init__()\n",
    "\n",
    "        # Set num_hiddens equal to image_embed_dim\n",
    "        num_hiddens = image_embed_dim\n",
    "\n",
    "        # Assert that num_hiddens is divisible by num_heads\n",
    "        assert num_hiddens % num_heads == 0, \"num_hiddens must be divisible by num_heads\"\n",
    "\n",
    "        # Initialize the vision encoder (ViT)\n",
    "        self.vision_encoder = ViT(img_size, patch_size, num_hiddens, num_heads, num_blks, emb_dropout, blk_dropout)\n",
    "\n",
    "        # Initialize the language model decoder (DecoderLanguageModel)\n",
    "        self.decoder = MoEDecoderLanguageModel(n_embd, image_embed_dim, vocab_size, num_heads, n_layer,num_experts, top_k, use_images=True)\n",
    "\n",
    "    def forward(self, img_array, idx, targets=None):\n",
    "        # Get the image embeddings from the vision encoder\n",
    "        image_embeds = self.vision_encoder(img_array)\n",
    "\n",
    "        # Check if the image embeddings are valid\n",
    "        if image_embeds.nelement() == 0 or image_embeds.shape[1] == 0:\n",
    "            raise ValueError(\"Something is wrong with the ViT model. It's returning an empty tensor or the embedding dimension is empty.\")\n",
    "\n",
    "        if targets is not None:\n",
    "            # If targets are provided, compute the logits and loss\n",
    "            logits, loss = self.decoder(idx, image_embeds, targets)\n",
    "            return logits, loss\n",
    "        else:\n",
    "            # If targets are not provided, compute only the logits\n",
    "            logits = self.decoder(idx, image_embeds)\n",
    "            return logits\n",
    "\n",
    "    def generate(self, img_array, idx, max_new_tokens):\n",
    "        # Get the image embeddings from the vision encoder\n",
    "        image_embeds = self.vision_encoder(img_array)\n",
    "\n",
    "        # Check if the image embeddings are valid\n",
    "        if image_embeds.nelement() == 0 or image_embeds.shape[1] == 0:\n",
    "            raise ValueError(\"Something is wrong with the ViT model. It's returning an empty tensor or the embedding dimension is empty.\")\n",
    "\n",
    "        # Generate new tokens using the language model decoder\n",
    "        generated_tokens = self.decoder.generate(idx, image_embeds, max_new_tokens)\n",
    "        return generated_tokens"
   ]
  },
  {
   "cell_type": "markdown",
   "metadata": {
    "application/vnd.databricks.v1+cell": {
     "cellMetadata": {},
     "inputWidgets": {},
     "nuid": "68946a23-b3c2-442f-910d-c7c4a3780cbc",
     "showTitle": false,
     "title": ""
    },
    "id": "gniFhFaXlZmp"
   },
   "source": [
    "Now back to where we started. The above VisualLanguageModel class neatly wraps up all the components we set out to put together.\n",
    "\n",
    "  <img src=\"https://github.com/AviSoori1x/seemore/blob/main/images/moevlm.png?raw=true\" width=\"500\" height=\"500\" alt=\"seemore\">\n"
   ]
  },
  {
   "cell_type": "code",
   "execution_count": 0,
   "metadata": {
    "application/vnd.databricks.v1+cell": {
     "cellMetadata": {
      "byteLimit": 2048000,
      "rowLimit": 10000
     },
     "inputWidgets": {},
     "nuid": "3595ca42-b3b5-4733-bd3b-0dedd59a9ee5",
     "showTitle": false,
     "title": ""
    },
    "id": "H9nFWES0Rw5L"
   },
   "outputs": [],
   "source": [
    "image_embed_dim = num_hiddens"
   ]
  },
  {
   "cell_type": "code",
   "execution_count": 0,
   "metadata": {
    "application/vnd.databricks.v1+cell": {
     "cellMetadata": {
      "byteLimit": 2048000,
      "rowLimit": 10000
     },
     "inputWidgets": {},
     "nuid": "2dd9be94-6ba3-4387-9a3a-139907173b4d",
     "showTitle": false,
     "title": ""
    },
    "colab": {
     "base_uri": "https://localhost:8080/"
    },
    "id": "m-iwMzhuRw5L",
    "outputId": "ea5b603a-c759-4f69-d36f-2248e08181d0"
   },
   "outputs": [
    {
     "output_type": "stream",
     "name": "stdout",
     "output_type": "stream",
     "text": [
      "Output from initialization forward pass: tensor([[[-0.0920,  1.0877, -0.7441,  ...,  0.6211, -0.6515,  0.2334],\n         [ 0.2383,  0.6650, -0.1194,  ...,  0.3063, -0.4673,  0.0204],\n         [ 0.4022,  1.7462, -0.0765,  ...,  0.2313, -0.6395, -1.4498],\n         ...,\n         [ 0.2060,  0.4791,  0.4107,  ..., -0.2792,  0.5358,  0.8838],\n         [-1.0982,  0.4948, -0.5329,  ...,  0.2072, -0.6476, -0.5402],\n         [-0.5251,  0.9894, -0.4999,  ...,  0.4049, -0.3445, -0.1619]]],\n       device='cuda:0', grad_fn=<ViewBackward0>)\n"
     ]
    }
   ],
   "source": [
    "n_layer, block_size, num_experts, top_k =  8, 32, 8, 2\n",
    "\n",
    "\n",
    "# Initialize the model\n",
    "model = VisionMoELanguageModel(n_embd, image_embed_dim, vocab_size,  n_layer, img_size, patch_size, n_head, num_blks, dropout, dropout, num_experts, top_k)\n",
    "model.to(device)\n",
    "\n",
    "# Create dummy data with correct dimensions\n",
    "dummy_img = torch.randn(1, 3, img_size, img_size).to(device)  # Correct shape for image input\n",
    "dummy_idx = torch.randint(0, vocab_size, (1, block_size)).to(device)  # Correct shape for text input\n",
    "\n",
    "# Forward pass to initialize all parameters\n",
    "try:\n",
    "    output = model(dummy_img, dummy_idx)  # Output for debugging\n",
    "    print(\"Output from initialization forward pass:\", output)\n",
    "except RuntimeError as e:\n",
    "    print(f\"Runtime Error during forward pass: {str(e)}\")\n",
    "    print(\"Check layer configurations and input shapes.\")"
   ]
  },
  {
   "cell_type": "markdown",
   "metadata": {
    "application/vnd.databricks.v1+cell": {
     "cellMetadata": {},
     "inputWidgets": {},
     "nuid": "714a426e-0732-45d3-b4d2-1e8d241e4d84",
     "showTitle": false,
     "title": ""
    },
    "id": "2Z7izIhGkJDy"
   },
   "source": [
    "Function to convert base64 encoded stringified images in inputs.csv in the repo to pytorch tensors so they can be used for training"
   ]
  },
  {
   "cell_type": "code",
   "execution_count": 0,
   "metadata": {
    "application/vnd.databricks.v1+cell": {
     "cellMetadata": {
      "byteLimit": 2048000,
      "rowLimit": 10000
     },
     "inputWidgets": {},
     "nuid": "09d59b56-a8e7-4ff4-8f0f-c0edd527f47d",
     "showTitle": false,
     "title": ""
    },
    "id": "mhoM3Rt2Rw5L"
   },
   "outputs": [],
   "source": [
    "def base64_to_tensor(base64_str, img_size=96):\n",
    "    image = Image.open(io.BytesIO(base64.b64decode(base64_str)))\n",
    "    if image.mode != 'RGB':\n",
    "        image = image.convert('RGB')\n",
    "    transform = transforms.Compose([\n",
    "        transforms.Resize((img_size, img_size)),\n",
    "        transforms.ToTensor(),\n",
    "        transforms.Normalize(mean=[0.485, 0.456, 0.406], std=[0.229, 0.224, 0.225])\n",
    "    ])\n",
    "    return transform(image).unsqueeze(0)  # Add batch dimension"
   ]
  },
  {
   "cell_type": "markdown",
   "metadata": {
    "application/vnd.databricks.v1+cell": {
     "cellMetadata": {},
     "inputWidgets": {},
     "nuid": "402f7e8b-be2f-4860-983b-1c75d836e22c",
     "showTitle": false,
     "title": ""
    },
    "id": "eNVwOzS2kXwK"
   },
   "source": [
    "Adjusting the dataloader in Andrej Karpathy's dataloader in makemore for the VLM training loop"
   ]
  },
  {
   "cell_type": "code",
   "execution_count": 0,
   "metadata": {
    "application/vnd.databricks.v1+cell": {
     "cellMetadata": {
      "byteLimit": 2048000,
      "rowLimit": 10000
     },
     "inputWidgets": {},
     "nuid": "45e77024-1b6f-4b25-a946-a808305f42b8",
     "showTitle": false,
     "title": ""
    },
    "id": "qF34w9-ZRw5L"
   },
   "outputs": [],
   "source": [
    "#Adjusting the data loader from makemore for multimodal data\n",
    "def get_batch(df, batch_size, split='train', img_size=96, val_batch_size=8):\n",
    "    # Split data into training and validation sets\n",
    "    n = int(0.9 * len(df))  # first 90% will be train, rest val\n",
    "    df_train = df.iloc[:n]\n",
    "    df_val = df.iloc[n:]\n",
    "    data = df_train if split == 'train' else df_val\n",
    "    batch_size = batch_size if split == 'train' else val_batch_size\n",
    "    replace = False if split == 'train' else True\n",
    "    batch = data.sample(n=batch_size, replace=replace)\n",
    "\n",
    "    images = torch.cat([base64_to_tensor(img, img_size) for img in batch['b64string_images']], dim=0).to(device)\n",
    "    text_indices = [torch.tensor(encode(desc), dtype=torch.long) for desc in batch['caption']]\n",
    "    max_length = max(len(t) for t in text_indices)\n",
    "\n",
    "    padded_text = torch.full((batch_size, max_length), fill_value=stoi['<pad>'], dtype=torch.long).to(device)\n",
    "    for i, text in enumerate(text_indices):\n",
    "        padded_text[i, :len(text)] = text\n",
    "\n",
    "    targets = torch.cat([padded_text[:, 1:], torch.full((batch_size, 1), fill_value=stoi['<pad>'], dtype=torch.long, device=device)], dim=1)\n",
    "\n",
    "    # Truncate or pad targets to match the length of padded_text\n",
    "    if targets.size(1) > padded_text.size(1):\n",
    "        targets = targets[:, :padded_text.size(1)]\n",
    "    elif targets.size(1) < padded_text.size(1):\n",
    "        targets = torch.cat([targets, torch.full((batch_size, padded_text.size(1) - targets.size(1)), fill_value=stoi['<pad>'], dtype=torch.long, device=device)], dim=1)\n",
    "\n",
    "    return images, padded_text, targets"
   ]
  },
  {
   "cell_type": "markdown",
   "metadata": {
    "application/vnd.databricks.v1+cell": {
     "cellMetadata": {},
     "inputWidgets": {},
     "nuid": "3b91ff6a-387a-4b3f-a784-7158fc47f762",
     "showTitle": false,
     "title": ""
    },
    "id": "MQKllw0pkgJF"
   },
   "source": [
    "Makemore training loop modified for our rudimentary Vision Language Model"
   ]
  },
  {
   "cell_type": "code",
   "execution_count": 0,
   "metadata": {
    "application/vnd.databricks.v1+cell": {
     "cellMetadata": {
      "byteLimit": 2048000,
      "rowLimit": 10000
     },
     "inputWidgets": {},
     "nuid": "605036de-0c47-4dc8-9328-1a8ad9c889f8",
     "showTitle": false,
     "title": ""
    },
    "id": "IzBrV3ZWRw5L"
   },
   "outputs": [],
   "source": [
    "#Adjusting the training loop from makemore for multimodal data\n",
    "def train_model(model, df, epochs, vocab_size, img_size=96):\n",
    "    optimizer = torch.optim.Adam(model.parameters(), lr=learning_rate)\n",
    "    model.to(device)\n",
    "    with mlflow.start_run():\n",
    "        for epoch in range(epochs):\n",
    "            model.train()\n",
    "            for _ in range(max_iters):\n",
    "                images, idx, targets = get_batch(df, batch_size, 'train', img_size)\n",
    "                optimizer.zero_grad()\n",
    "                logits, loss = model(images, idx, targets)\n",
    "                loss.backward()\n",
    "                optimizer.step()\n",
    "                if _ % eval_interval == 0:\n",
    "                    #print(f\"Loss at iteration {_}: {loss.item()}\")\n",
    "                    metrics = {\"train_loss\": loss.item()}\n",
    "                    mlflow.log_metrics(metrics, step=_)\n",
    "            val_loss = estimate_loss(model, df, 'val', img_size, val_batch_size=8)\n",
    "            metrics = {\"val_loss\": val_loss}\n",
    "            mlflow.log_metrics(metrics, step=epoch)\n",
    "            #print(f\"Validation Loss after epoch {epoch}: {val_loss}\")\n",
    "\n",
    "def estimate_loss(model, df, split, img_size=96, val_batch_size=8):\n",
    "    losses = []\n",
    "    model.eval()\n",
    "    for _ in range(eval_iters):\n",
    "        images, idx, targets = get_batch(df, batch_size, split, img_size, val_batch_size=val_batch_size)\n",
    "        _, loss = model(images, idx, targets)\n",
    "        losses.append(loss.item())\n",
    "    return sum(losses) / len(losses)"
   ]
  },
  {
   "cell_type": "code",
   "execution_count": 0,
   "metadata": {
    "application/vnd.databricks.v1+cell": {
     "cellMetadata": {
      "byteLimit": 2048000,
      "rowLimit": 10000
     },
     "inputWidgets": {},
     "nuid": "1670d54d-791d-4d03-945a-12aa634af044",
     "showTitle": false,
     "title": ""
    },
    "colab": {
     "base_uri": "https://localhost:8080/"
    },
    "id": "ITWGvRmkRw5L",
    "outputId": "198364df-6a9d-4846-dc94-2ad85006e059"
   },
   "outputs": [
    {
     "output_type": "execute_result",
     "data": {
      "text/plain": [
       "(90, 2)"
      ]
     },
     "execution_count": 44,
     "metadata": {},
     "output_type": "execute_result"
    }
   ],
   "source": [
    "df = pd.read_csv(\"./inputs.csv\")\n",
    "#Expanding dataframe so that there's enough data to test. This is just duplicating data. A real dataset would have more rows\n",
    "df = pd.concat([df] * 30)[['b64string_images', 'caption']]\n",
    "df.shape"
   ]
  },
  {
   "cell_type": "code",
   "execution_count": 0,
   "metadata": {
    "application/vnd.databricks.v1+cell": {
     "cellMetadata": {
      "byteLimit": 2048000,
      "rowLimit": 10000
     },
     "inputWidgets": {},
     "nuid": "a91f0e87-d361-40a3-a43f-51566e03810a",
     "showTitle": false,
     "title": ""
    },
    "id": "QgyBgOPJRw5L"
   },
   "outputs": [],
   "source": [
    "# display(df.head())"
   ]
  },
  {
   "cell_type": "code",
   "execution_count": 0,
   "metadata": {
    "application/vnd.databricks.v1+cell": {
     "cellMetadata": {
      "byteLimit": 2048000,
      "rowLimit": 10000
     },
     "inputWidgets": {},
     "nuid": "3d948df0-4979-46e1-8208-629e8a95c93b",
     "showTitle": false,
     "title": ""
    },
    "id": "MFM46Cs0Rw5L"
   },
   "outputs": [],
   "source": [
    "batch_size = 16 # how many independent sequences will we process in parallel?\n",
    "block_size = 32 # what is the maximum context length for predictions?\n",
    "max_iters = 100\n",
    "eval_interval = 10\n",
    "learning_rate = 1e-3\n",
    "epochs=1\n",
    "device = 'cuda' if torch.cuda.is_available() else 'cpu'\n",
    "eval_iters = 40\n",
    "num_blks= 3\n",
    "head_size = 16\n",
    "n_embd = 128\n",
    "n_head = 8\n",
    "n_layer = 8\n",
    "dropout = 0.1\n",
    "img_size=96\n",
    "patch_size =16\n",
    "image_embed_dim = 512\n",
    "emb_dropout = blk_dropout =0.1\n",
    "num_experts, top_k = 8, 2"
   ]
  },
  {
   "cell_type": "markdown",
   "metadata": {
    "application/vnd.databricks.v1+cell": {
     "cellMetadata": {},
     "inputWidgets": {},
     "nuid": "ab3167bc-c91f-478c-b419-61cf8529691a",
     "showTitle": false,
     "title": ""
    },
    "id": "-Qqfkc1Tkl-f"
   },
   "source": [
    "Let's train!! Optional: Use MLFlow to track eval loss as the model is being trained"
   ]
  },
  {
   "cell_type": "code",
   "execution_count": 0,
   "metadata": {
    "application/vnd.databricks.v1+cell": {
     "cellMetadata": {
      "byteLimit": 2048000,
      "rowLimit": 10000
     },
     "inputWidgets": {},
     "nuid": "60961b04-d9db-4540-a9d5-5c6f57a0d68b",
     "showTitle": false,
     "title": ""
    }
   },
   "outputs": [],
   "source": [
    "def kaiming_init_weights(m):\n",
    "    if isinstance (m, (nn.Linear)): \n",
    "        init.kaiming_normal_(m.weight)"
   ]
  },
  {
   "cell_type": "code",
   "execution_count": 0,
   "metadata": {
    "application/vnd.databricks.v1+cell": {
     "cellMetadata": {
      "byteLimit": 2048000,
      "rowLimit": 10000
     },
     "inputWidgets": {},
     "nuid": "04e27881-aaee-4f40-b5cd-4e6a2de0fca7",
     "showTitle": false,
     "title": ""
    },
    "colab": {
     "base_uri": "https://localhost:8080/"
    },
    "id": "ayLj98T7Rw5L",
    "outputId": "f019ab03-6090-4cee-f2a1-1053a7e1fefd"
   },
   "outputs": [],
   "source": [
    "# Initialize the model\n",
    "model = VisionMoELanguageModel(n_embd, image_embed_dim, vocab_size, n_layer, img_size, patch_size, n_head, num_blks, emb_dropout, blk_dropout, num_experts, top_k)\n",
    "#Appluy thre initialization\n",
    "model.apply(kaiming_init_weights)\n",
    "model.to(device)\n",
    "\n",
    "# Dummy data to initialize lazy modules\n",
    "dummy_img = torch.randn(1, 3, img_size, img_size).to(device)\n",
    "dummy_idx = torch.randint(0, vocab_size, (1, block_size)).to(device)\n",
    "model(dummy_img, dummy_idx)  # Forward pass to initialize all parameters\n",
    "\n",
    "# Train the model\n",
    "train_model(model, df, epochs, vocab_size, img_size)\n"
   ]
  },
  {
   "cell_type": "markdown",
   "metadata": {
    "application/vnd.databricks.v1+cell": {
     "cellMetadata": {},
     "inputWidgets": {},
     "nuid": "293c7393-3787-4634-b457-ae091d35141a",
     "showTitle": false,
     "title": ""
    },
    "id": "k2kPV9svmUOd"
   },
   "source": [
    "Please note that in this simple example, we are training the entire system end to end, much like Kosmos-1 from Microsoft Research. I left it at this for convenience. In practice the commonly observed sequence is:\n",
    "\n",
    "1. Get pretrained vision encoder from SigLIP or CLIP (both come in difference sizes). Freeze weights (i.e. don’t update during backward pass in training)\n",
    "\n",
    "2. Get decoder only language model (Dense or SparseMoE) e.g. all the way from TinyLLaMA, Phi-2 etc. to Mixtral 8x7B (or even much bigger in the case of GPT-4 and Grok 1.5 etc.). Freeze weights.\n",
    "\n",
    "3. Implement a projection module and train a VLM module much like what we have here, but only updating the weights of this projection module. This would effectively be the pretraining phase.\n",
    "\n",
    "4. Then during the instruction finetuning keep both the projection module and the decoder language model unfrozen and update weights of both in the backward pass.\n",
    "\n",
    "I developed this on Databricks using a single T4 and MLFlow for tracking loss (during the training process). I wanted to set this up this way so that I can scale up to a GPU cluster of any size I want quite easily on Databricks, should I decide to adapt this to a more performance oriented implementation. However, you can run this anywhere, with or without a GPU. Please note that even the toy training loop with 90 samples will be painfully slow on a CPU.\n"
   ]
  },
  {
   "cell_type": "code",
   "execution_count": 0,
   "metadata": {
    "application/vnd.databricks.v1+cell": {
     "cellMetadata": {},
     "inputWidgets": {},
     "nuid": "30f52dda-59c4-4250-bfd2-403a589a7f86",
     "showTitle": false,
     "title": ""
    }
   },
   "outputs": [],
   "source": []
  }
 ],
 "metadata": {
  "accelerator": "GPU",
  "application/vnd.databricks.v1+notebook": {
   "dashboards": [],
   "language": "python",
   "notebookMetadata": {
    "pythonIndentUnit": 2
   },
   "notebookName": "seeMoE_from_Scratch",
   "widgets": {}
  },
  "colab": {
   "gpuType": "T4",
   "provenance": []
  },
  "kernelspec": {
   "display_name": "Python 3",
   "name": "python3"
  },
  "language_info": {
   "name": "python"
  }
 },
 "nbformat": 4,
 "nbformat_minor": 0
}
